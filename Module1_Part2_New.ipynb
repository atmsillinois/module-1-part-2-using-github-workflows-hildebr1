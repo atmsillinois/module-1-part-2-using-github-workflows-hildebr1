{
 "cells": [
  {
   "cell_type": "code",
   "execution_count": 2,
   "id": "10c56d7f",
   "metadata": {},
   "outputs": [],
   "source": [
    "# Create a list of temperatures\n",
    "# Units are in fahrenheit\n",
    "t_f = [68.1, 73.4, 70.8, 75.9, 69.5, 68.0, 74.6]"
   ]
  },
  {
   "cell_type": "code",
   "execution_count": 3,
   "id": "ab2c7ac3",
   "metadata": {},
   "outputs": [
    {
     "name": "stdout",
     "output_type": "stream",
     "text": [
      "The average temperature in fahrenheit is 71.47142857142858\n"
     ]
    }
   ],
   "source": [
    "# Take the average of these temperatures and print it\n",
    "avg_f = sum(t_f) / len(t_f)\n",
    "print(\"The average temperature in fahrenheit is\", avg_f)"
   ]
  }
 ],
 "metadata": {
  "kernelspec": {
   "display_name": "base",
   "language": "python",
   "name": "python3"
  },
  "language_info": {
   "codemirror_mode": {
    "name": "ipython",
    "version": 3
   },
   "file_extension": ".py",
   "mimetype": "text/x-python",
   "name": "python",
   "nbconvert_exporter": "python",
   "pygments_lexer": "ipython3",
   "version": "3.11.6"
  }
 },
 "nbformat": 4,
 "nbformat_minor": 5
}

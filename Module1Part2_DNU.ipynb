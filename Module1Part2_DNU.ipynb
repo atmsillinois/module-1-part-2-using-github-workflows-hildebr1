# Create list of temperatures 
t = [68.1, 73.4, 70.8, 75.9, 69.5, 68.0, 74.6]
# Take the average of these temperatures and print the average temp 
avg = sum(t) / len(t)
print(avg)
